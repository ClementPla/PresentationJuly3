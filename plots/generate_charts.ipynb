{
 "cells": [
  {
   "cell_type": "code",
   "execution_count": 1,
   "metadata": {},
   "outputs": [],
   "source": [
    "import bokeh.models as bmo\n",
    "import numpy as np\n",
    "from bokeh.io import output_file, save, output_notebook\n",
    "from bokeh.layouts import gridplot\n",
    "from bokeh.plotting import figure, show\n",
    "\n",
    "from tqdm.notebook import tqdm\n",
    "from fundus_data_toolkit.datamodules.segmentation import (\n",
    "    IDRiDDataModule_s,\n",
    "    DDRDataModule_s,\n",
    "    MESSIDORDataModule_s,\n",
    "    RETLESDataModule_s,\n",
    "    FGADRDataModule_s,\n",
    "    TJDRDataModule_s,\n",
    ")\n",
    "from fundus_data_toolkit.datamodules import SEG_PATHS\n",
    "from fundus_data_toolkit.utils.image_processing import fundus_autocrop\n",
    "from fundus_lesions_toolkit.constants import (\n",
    "    lesions2colors,\n",
    "    labels2names,\n",
    ")"
   ]
  },
  {
   "cell_type": "code",
   "execution_count": 2,
   "metadata": {},
   "outputs": [
    {
     "data": {
      "text/plain": [
       "({0: 'Background',\n",
       "  1: 'Cotton Wool Spots',\n",
       "  2: 'Exudates',\n",
       "  3: 'Hemorrhages',\n",
       "  4: 'Microaneurysms'},\n",
       " {'BG': 'black',\n",
       "  'CTW': '#eca63f',\n",
       "  'EX': '#8cf18e',\n",
       "  'HE': '#4498f0',\n",
       "  'MA': '#141488'})"
      ]
     },
     "execution_count": 2,
     "metadata": {},
     "output_type": "execute_result"
    }
   ],
   "source": [
    "labels2names, lesions2colors"
   ]
  },
  {
   "cell_type": "code",
   "execution_count": 3,
   "metadata": {},
   "outputs": [
    {
     "name": "stderr",
     "output_type": "stream",
     "text": [
      "WARNING:root:Mismatch between the size of the different input folders (longer 54, smaller 26)\n",
      "WARNING:root:Upsampling missing labels to fit the dataset's size (54)\n",
      "WARNING:root:Mismatch between the size of the different input folders (longer 54, smaller 26)\n",
      "WARNING:root:Upsampling missing labels to fit the dataset's size (54)\n"
     ]
    },
    {
     "name": "stderr",
     "output_type": "stream",
     "text": [
      "WARNING:root:Mismatch between the size of the different input folders (longer 27, smaller 14)\n",
      "WARNING:root:Upsampling missing labels to fit the dataset's size (27)\n",
      "WARNING:root:Mismatch between the size of the different input folders (longer 1593, smaller 13)\n",
      "WARNING:root:Upsampling missing labels to fit the dataset's size (1593)\n",
      "WARNING:root:Mismatch between the size of the different input folders (longer 1593, smaller 13)\n",
      "WARNING:root:Upsampling missing labels to fit the dataset's size (1593)\n",
      "WARNING:root:Mismatch between the size of the different input folders (longer 1593, smaller 13)\n",
      "WARNING:root:Upsampling missing labels to fit the dataset's size (1593)\n",
      "WARNING:root:Mismatch between the size of the different input folders (longer 1842, smaller 49)\n",
      "WARNING:root:Upsampling missing labels to fit the dataset's size (1842)\n",
      "WARNING:root:Mismatch between the size of the different input folders (longer 1842, smaller 49)\n",
      "WARNING:root:Upsampling missing labels to fit the dataset's size (1842)\n",
      "WARNING:root:Mismatch between the size of the different input folders (longer 1842, smaller 49)\n",
      "WARNING:root:Upsampling missing labels to fit the dataset's size (1842)\n"
     ]
    }
   ],
   "source": [
    "def cvt2bokeh(img):\n",
    "    h, w = img.shape[:2]\n",
    "    container = np.empty((h, w), dtype=np.uint32)\n",
    "    view = container.view(dtype=np.uint8).reshape((h, w, 4))\n",
    "    view[:, :, 0] = img[:, :, 0]  # copy red channelmatch_aspect\n",
    "    view[:, :, 1] = img[:, :, 1]  # copy blue channel\n",
    "    view[:, :, 2] = img[:, :, 2]  # copy green channel\n",
    "    view[:, :, 3] = 255\n",
    "    return container\n",
    "\n",
    "\n",
    "datamodules = dict(\n",
    "    IDRID=IDRiDDataModule_s,\n",
    "    DDR=DDRDataModule_s,\n",
    "    MESSIDOR=MESSIDORDataModule_s,\n",
    "    RETLES=RETLESDataModule_s,\n",
    "    FGADR=FGADRDataModule_s,\n",
    "    TJDR=TJDRDataModule_s,\n",
    ")\n",
    "\n",
    "for k, d in datamodules.items():\n",
    "    datamodules[k] = d(SEG_PATHS[k], img_size=512, batch_size=1, num_workers=0)\n",
    "    datamodules[k].setup_all()"
   ]
  },
  {
   "cell_type": "code",
   "execution_count": 9,
   "metadata": {},
   "outputs": [],
   "source": [
    "datasets = {name: d.test for name, d in datamodules.items()}\n",
    "for d in datasets.values():\n",
    "    d.composer.deactivate_op(5)\n",
    "datasets[\"TJDR\"].composer.deactivate_op(4)\n",
    "\n",
    "\n",
    "def plot_image_and_lesions(\n",
    "    data,\n",
    "    alpha_mask=0.5,\n",
    "    size=512,\n",
    "    title=None,\n",
    "    x_range=None,\n",
    "    y_range=None,\n",
    "    legend=True,\n",
    "):\n",
    "    tools = [\n",
    "        bmo.PanTool(),\n",
    "        bmo.WheelZoomTool(),\n",
    "        bmo.BoxZoomTool(match_aspect=True),\n",
    "        bmo.ResetTool(),\n",
    "        bmo.FullscreenTool(),\n",
    "        bmo.CrosshairTool(),\n",
    "        bmo.SaveTool(),\n",
    "    ]\n",
    "\n",
    "    if x_range is None:\n",
    "        x_range = (0.0, 1.0)\n",
    "    if y_range is None:\n",
    "        y_range = (0.0, 1.0)\n",
    "\n",
    "    image = data[\"image\"][::-1]\n",
    "    h, w, c = image.shape\n",
    "    img = cvt2bokeh(image)\n",
    "    p = figure(\n",
    "        x_range=x_range,\n",
    "        y_range=y_range,\n",
    "        width=size,\n",
    "        height=size,\n",
    "        tools=tools,\n",
    "        title=title,\n",
    "        match_aspect=True,\n",
    "    )\n",
    "\n",
    "    p.image_rgba(image=[img], x=0, y=0, dw=1.0, dh=1.0)\n",
    "\n",
    "    x, y = np.meshgrid(np.linspace(0, 1.0, h), np.linspace(0, 1.0, w))\n",
    "\n",
    "    mask = data[\"mask\"][::-1]\n",
    "    indices = labels2names.keys()\n",
    "    labels = labels2names.values()\n",
    "    colors = lesions2colors.values()\n",
    "\n",
    "    for i, l, c in zip(indices, labels, colors):\n",
    "        if i == 0:\n",
    "            continue\n",
    "        lesion_mask = mask == i\n",
    "        p.contour(\n",
    "            x,\n",
    "            y,\n",
    "            lesion_mask,\n",
    "            levels=[0, 1],\n",
    "            line_width=1,\n",
    "            line_color=c,\n",
    "            fill_color=c,\n",
    "            fill_alpha=alpha_mask,\n",
    "        )\n",
    "        if legend:\n",
    "            p.scatter(\n",
    "                x=[0], y=[0], legend_label=l, line_color=c, line_width=1, fill_color=c\n",
    "            )\n",
    "\n",
    "    # p.legend.orientation = \"horizontal\"\n",
    "    p.xaxis.major_tick_line_color = None  # turn off x-axis major ticks\n",
    "    p.xaxis.minor_tick_line_color = None  # turn off x-axis minor ticks\n",
    "\n",
    "    p.yaxis.major_tick_line_color = None  # turn off y-axis major ticks\n",
    "    p.yaxis.minor_tick_line_color = None  # turn off y-axis minor ticks\n",
    "    p.axis.visible = False\n",
    "\n",
    "    if legend:\n",
    "        p.legend.background_fill_alpha = 0.5\n",
    "    return p"
   ]
  },
  {
   "cell_type": "raw",
   "metadata": {
    "vscode": {
     "languageId": "raw"
    }
   },
   "source": [
    "\n",
    "output_file(\"output/datasets.html\")\n",
    "# output_notebook()\n",
    "ps = []\n",
    "indices = [17, 200, 1, 10, 8, 67]\n",
    "for index, (dname, d) in zip(indices, datasets.items()):\n",
    "    if not ps:\n",
    "        p = plot_image_and_lesions(\n",
    "            d[index], tools, size=400, title=dname, alpha_mask=0.15\n",
    "        )\n",
    "        ps.append(p)\n",
    "    else:\n",
    "        p = plot_image_and_lesions(\n",
    "            d[index],\n",
    "            tools,\n",
    "            size=400,\n",
    "            title=dname,\n",
    "            alpha_mask=0.15,\n",
    "            x_range=ps[0].x_range,\n",
    "            y_range=ps[0].y_range,\n",
    "        )\n",
    "        ps.append(p)\n",
    "\n",
    "ps = gridplot(ps, ncols=3, toolbar_options=dict(logo=None))\n",
    "ps.toolbar.active_scroll = tools[1]\n",
    "# show(ps)\n",
    "save(ps)"
   ]
  },
  {
   "cell_type": "code",
   "execution_count": 5,
   "metadata": {},
   "outputs": [
    {
     "data": {
      "application/vnd.jupyter.widget-view+json": {
       "model_id": "11d725095840425790686548fd9c6c72",
       "version_major": 2,
       "version_minor": 0
      },
      "text/plain": [
       "  0%|          | 0/3 [00:00<?, ?it/s]"
      ]
     },
     "metadata": {},
     "output_type": "display_data"
    },
    {
     "name": "stderr",
     "output_type": "stream",
     "text": [
      "/home/clement/Documents/Projets/fundus-lesions-toolkit/src/fundus_lesions_toolkit/models/segmentation.py:195: UserWarning: Setting dropout to 0.2\n",
      "  warnings.warn(f\"Setting dropout to {initial_value}\")\n"
     ]
    }
   ],
   "source": [
    "from fundus_lesions_toolkit.models import segment\n",
    "from fundus_lesions_toolkit.constants import Dataset\n",
    "\n",
    "models = [\n",
    "    Dataset.IDRID,\n",
    "    Dataset.RETLES,\n",
    "    Dataset.ALL,\n",
    "]\n",
    "indices = [17, 200, 1, 11, 8]\n",
    "all_preds = []\n",
    "for m in tqdm(models):\n",
    "    mpred = []\n",
    "    for index, (dname, dataset) in zip(indices, datasets.items()):\n",
    "        image = dataset[index][\"image\"]\n",
    "        prediction = segment(\n",
    "            image, train_datasets=m, autofit_resolution=True, reverse_autofit=True\n",
    "        )\n",
    "        mask = prediction.argmax(dim=0).cpu().numpy()\n",
    "        mpred.append((image, mask))\n",
    "\n",
    "    all_preds.append(mpred)"
   ]
  },
  {
   "cell_type": "code",
   "execution_count": 18,
   "metadata": {},
   "outputs": [
    {
     "data": {
      "text/plain": [
       "'/home/clement/Documents/Report/July3/reveal.js/plots/output/results/segment.html'"
      ]
     },
     "execution_count": 18,
     "metadata": {},
     "output_type": "execute_result"
    }
   ],
   "source": [
    "output_file(\"output/results/segment.html\")\n",
    "ps = []\n",
    "for mname, m in zip(models, all_preds):\n",
    "    for dname, pred in zip(datasets.keys(), m):\n",
    "        data = {}\n",
    "        data[\"image\"] = pred[0]\n",
    "        data[\"mask\"] = pred[1]\n",
    "        if not ps:\n",
    "            ps.append(\n",
    "                plot_image_and_lesions(\n",
    "                    data,\n",
    "                    size=250,\n",
    "                    alpha_mask=0.15,\n",
    "                    legend=False,\n",
    "                    title=f\"Trained with {mname.value} \\nTested on {dname}\",\n",
    "                )\n",
    "            )\n",
    "        else:\n",
    "            ps.append(\n",
    "                plot_image_and_lesions(\n",
    "                    data,\n",
    "                    size=250,\n",
    "                    alpha_mask=0.15,\n",
    "                    x_range=ps[0].x_range,\n",
    "                    y_range=ps[0].y_range,\n",
    "                    legend=False,\n",
    "                    title=f\"Trained with {mname.value} \\nTested on {dname}\",\n",
    "                )\n",
    "            )\n",
    "\n",
    "ps = gridplot(ps, ncols=5, toolbar_options=dict(logo=None))\n",
    "save(ps)"
   ]
  },
  {
   "cell_type": "code",
   "execution_count": null,
   "metadata": {},
   "outputs": [],
   "source": []
  }
 ],
 "metadata": {
  "kernelspec": {
   "display_name": "deeplearning",
   "language": "python",
   "name": "python3"
  },
  "language_info": {
   "codemirror_mode": {
    "name": "ipython",
    "version": 3
   },
   "file_extension": ".py",
   "mimetype": "text/x-python",
   "name": "python",
   "nbconvert_exporter": "python",
   "pygments_lexer": "ipython3",
   "version": "3.12.3"
  }
 },
 "nbformat": 4,
 "nbformat_minor": 2
}
